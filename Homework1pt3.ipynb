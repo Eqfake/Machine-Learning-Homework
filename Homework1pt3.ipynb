{
 "cells": [
  {
   "cell_type": "code",
   "execution_count": 56,
   "id": "929f0aca-f0ea-466c-977b-cd245205bbf7",
   "metadata": {
    "scrolled": true
   },
   "outputs": [
    {
     "name": "stdout",
     "output_type": "stream",
     "text": [
      "Coefficient w1: 2.2000000000000006\n",
      "Intercept w2: -1.0000000000000018\n"
     ]
    }
   ],
   "source": [
    "import numpy as np\n",
    "from sklearn.linear_model import LinearRegression\n",
    "\n",
    "# Data\n",
    "x = np.array([1, 2, 3, 4, 5]).reshape(-1, 1)\n",
    "y = np.array([2, 3, 5, 7, 11])\n",
    "\n",
    "# Create a linear regression model\n",
    "model = LinearRegression()\n",
    "model.fit(x, y)\n",
    "\n",
    "# Retrieve the coefficients\n",
    "w_1 = model.coef_[0]\n",
    "w_0 = model.intercept_\n",
    "\n",
    "print(f\"Coefficient w1: {w_1}\")\n",
    "print(f\"Intercept w2: {w_0}\")"
   ]
  },
  {
   "cell_type": "code",
   "execution_count": null,
   "id": "20a75b12-1acd-4a42-a68d-7e40d58e91ad",
   "metadata": {},
   "outputs": [],
   "source": []
  }
 ],
 "metadata": {
  "kernelspec": {
   "display_name": "anaconda-ai-2024.04-py310",
   "language": "python",
   "name": "conda-env-anaconda-ai-2024.04-py310-py"
  },
  "language_info": {
   "codemirror_mode": {
    "name": "ipython",
    "version": 3
   },
   "file_extension": ".py",
   "mimetype": "text/x-python",
   "name": "python",
   "nbconvert_exporter": "python",
   "pygments_lexer": "ipython3",
   "version": "3.10.13"
  }
 },
 "nbformat": 4,
 "nbformat_minor": 5
}
