{
 "cells": [
  {
   "cell_type": "code",
   "execution_count": 97,
   "id": "73180d4f-e327-4514-81c3-b9a8298a38b9",
   "metadata": {},
   "outputs": [
    {
     "name": "stdout",
     "output_type": "stream",
     "text": [
      "n=1000:\n",
      "Empirical E[x]: 2.6650\n",
      "Empirical Var[x] 0.7888\n",
      "Empirical E[Y]: 14.221000\n",
      "Empirical Var[Y]: 41.4722\n",
      "\n",
      "n=10000:\n",
      "Empirical E[x]: 2.7015\n",
      "Empirical Var[x] 0.8168\n",
      "Empirical E[Y]: 14.517900\n",
      "Empirical Var[Y]: 43.2505\n",
      "\n",
      "n=100000:\n",
      "Empirical E[x]: 2.7009\n",
      "Empirical Var[x] 0.8127\n",
      "Empirical E[Y]: 14.509240\n",
      "Empirical Var[Y]: 43.1952\n",
      "\n",
      "n=1000000:\n",
      "Empirical E[x]: 2.7007\n",
      "Empirical Var[x] 0.8100\n",
      "Empirical E[Y]: 14.505066\n",
      "Empirical Var[Y]: 43.0632\n",
      "\n"
     ]
    }
   ],
   "source": [
    "import numpy as np\n",
    "\n",
    "def Get_simulated_sample(n):\n",
    "    # Define the pmf\n",
    "    values = np.array([1, 2, 3, 4])\n",
    "    probabilities = np.array([0.1, 0.3, 0.4, 0.2])\n",
    "   \n",
    "    # Make Samples for X\n",
    "    Xsamples = np.random.choice(values, size=n, p=probabilities) \n",
    "    # Y = x^2 + 2x + 1\n",
    "    Ysamples = Xsamples**2 + 2*Xsamples + 1\n",
    "   \n",
    "    # Calculate empircal mean and variance\n",
    "    mean_x = np.mean(Xsamples)\n",
    "    var_x = np.var(Xsamples)\n",
    "    mean_y = np.mean(Ysamples)\n",
    "    var_y = np.var(Ysamples)\n",
    "    \n",
    "    return mean_x, var_x, mean_y, var_y\n",
    "\n",
    "# Run simulation for different n‎\n",
    "def simulate_samples(n):\n",
    "    return Get_simulated_sample(n)\n",
    "for k in [3, 4, 5, 6]:\n",
    "    n = 10**k\n",
    "    mean_x, var_x, mean_y, var_y = simulate_samples(n)\n",
    "    print(f\"n={n}:\")\n",
    "    print(f\"Empirical E[x]: {mean_x:.4f}\")\n",
    "    print(f\"Empirical Var[x] {var_x:.4f}\")\n",
    "    print(f\"Empirical E[Y]: {mean_y:4f}\")\n",
    "    print(f\"Empirical Var[Y]: {var_y:.4f}\")\n",
    "    print()"
   ]
  },
  {
   "cell_type": "code",
   "execution_count": null,
   "id": "f37cc772-f5d6-4b5d-b10e-8edfe1464842",
   "metadata": {
    "jupyter": {
     "source_hidden": true
    }
   },
   "outputs": [],
   "source": []
  },
  {
   "cell_type": "code",
   "execution_count": null,
   "id": "290d05ab-d09c-444c-9b51-a7f58a5435fd",
   "metadata": {},
   "outputs": [],
   "source": []
  },
  {
   "cell_type": "code",
   "execution_count": null,
   "id": "e14cac83-c606-46a8-861a-60782b0d035d",
   "metadata": {},
   "outputs": [],
   "source": []
  },
  {
   "cell_type": "code",
   "execution_count": null,
   "id": "3f13ac4c-6751-4d71-830c-691d038d4756",
   "metadata": {},
   "outputs": [],
   "source": []
  },
  {
   "cell_type": "code",
   "execution_count": null,
   "id": "cc75e756-3762-4d66-80c1-1c37cc15f0a2",
   "metadata": {},
   "outputs": [],
   "source": []
  }
 ],
 "metadata": {
  "kernelspec": {
   "display_name": "anaconda-panel-2023.05-py310",
   "language": "python",
   "name": "conda-env-anaconda-panel-2023.05-py310-py"
  },
  "language_info": {
   "codemirror_mode": {
    "name": "ipython",
    "version": 3
   },
   "file_extension": ".py",
   "mimetype": "text/x-python",
   "name": "python",
   "nbconvert_exporter": "python",
   "pygments_lexer": "ipython3",
   "version": "3.11.5"
  }
 },
 "nbformat": 4,
 "nbformat_minor": 5
}
