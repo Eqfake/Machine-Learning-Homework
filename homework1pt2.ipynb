{
 "cells": [
  {
   "cell_type": "code",
   "execution_count": 6,
   "id": "41768e7e-e371-494d-b317-9ad2efa13054",
   "metadata": {},
   "outputs": [
    {
     "name": "stdout",
     "output_type": "stream",
     "text": [
      "Empirical correlation coefficient: 0.991466531735398\n",
      "Scipy Pearson correlation coefficient: 0.9914665317353983\n"
     ]
    }
   ],
   "source": [
    "import numpy as np\n",
    "import scipy.stats\n",
    "\n",
    "def empirical_correlation(x, y):\n",
    "\n",
    "    n = len(x)  # Get the number of samples\n",
    "    mean_x = np.mean(x)  # Calculate mean of x\n",
    "    mean_y = np.mean(y)  # Calculate mean of y \n",
    "\n",
    "    # Calculate covariance and variances\n",
    "    cov = np.sum((x - mean_x) * (y - mean_y)) / (n - 1) \n",
    "    var_x = np.sum((x - mean_x) ** 2) / (n - 1) \n",
    "    var_y = np.sum((y - mean_y) ** 2) / (n - 1)  \n",
    "\n",
    "    r_xy = cov / np.sqrt(var_x * var_y)  # Calculate correlation coefficient\n",
    "    return r_xy\n",
    "\n",
    "def Get_simulated_sample(n):\n",
    "    # Define the pmf\n",
    "    values = np.array([1, 2, 3, 4])\n",
    "    probabilities = np.array([0.1, 0.3, 0.4, 0.2])\n",
    "   \n",
    "    # Make Samples for X\n",
    "    Xsamples = np.random.choice(values, size=n, p=probabilities) \n",
    "    # Y = x^2 + 2x + 1\n",
    "    Ysamples = Xsamples**2 + 2*Xsamples + 1\n",
    "   \n",
    "    # Calculate empirical mean and variance\n",
    "    mean_x = np.mean(Xsamples)\n",
    "    var_x = np.var(Xsamples)\n",
    "    mean_y = np.mean(Ysamples)\n",
    "    var_y = np.var(Ysamples)\n",
    "    \n",
    "    return Xsamples, Ysamples  # Return the samples for correlation calculation\n",
    "\n",
    "# Example usage\n",
    "n = 100  # Number of samples\n",
    "Xsamples, Ysamples = Get_simulated_sample(n)  # Get simulated samples\n",
    "\n",
    "r_xy = empirical_correlation(Xsamples, Ysamples)  \n",
    "print(\"Empirical correlation coefficient:\", r_xy) \n",
    "\n",
    "# Calculate Pearson correlation using scipy\n",
    "pearson_corr, _ = scipy.stats.pearsonr(Xsamples, Ysamples)\n",
    "print(\"Scipy Pearson correlation coefficient:\", pearson_corr)"
   ]
  },
  {
   "cell_type": "code",
   "execution_count": null,
   "id": "f9e48ade-fc4b-45b4-906b-e4c0dda9dd37",
   "metadata": {},
   "outputs": [],
   "source": []
  },
  {
   "cell_type": "code",
   "execution_count": null,
   "id": "768c9f9d-35b1-41d5-a44d-36e6342e06bd",
   "metadata": {},
   "outputs": [],
   "source": []
  }
 ],
 "metadata": {
  "kernelspec": {
   "display_name": "anaconda-ai-2024.04-py310",
   "language": "python",
   "name": "conda-env-anaconda-ai-2024.04-py310-py"
  },
  "language_info": {
   "codemirror_mode": {
    "name": "ipython",
    "version": 3
   },
   "file_extension": ".py",
   "mimetype": "text/x-python",
   "name": "python",
   "nbconvert_exporter": "python",
   "pygments_lexer": "ipython3",
   "version": "3.10.13"
  }
 },
 "nbformat": 4,
 "nbformat_minor": 5
}
